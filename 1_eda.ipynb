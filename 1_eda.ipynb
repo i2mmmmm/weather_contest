{
 "cells": [
  {
   "cell_type": "code",
   "execution_count": 1,
   "metadata": {},
   "outputs": [],
   "source": [
    "import pandas as pd\n",
    "import seaborn as sns\n",
    "import matplotlib.pyplot as plt\n",
    "import statsmodels.api as sm\n",
    "from statsmodels.graphics.tsaplots import plot_acf, plot_pacf"
   ]
  },
  {
   "cell_type": "code",
   "execution_count": 2,
   "metadata": {},
   "outputs": [],
   "source": [
    "train = pd.read_csv(\"rainfall_train.csv\")\n",
    "test = pd.read_csv(\"rainfall_test.csv\")"
   ]
  },
  {
   "cell_type": "code",
   "execution_count": 3,
   "metadata": {},
   "outputs": [],
   "source": [
    "# 전처리\n",
    "\n",
    "\n",
    "train = train.iloc[:,1:] # index 열 제거\n",
    "test = test.iloc[:,1:]\n",
    "train.columns = train.columns.str.replace('rainfall_train.', '', regex=False) # 열 이름 수정\n",
    "test.columns = test.columns.str.replace('rainfall_test.', '', regex=False)\n",
    "\n",
    "\n",
    "# 년도 범주형 -> 숫자형\n",
    "# 지점 범주형 -> 숫자형\n",
    "mapping = {'A': 2001, 'B': 2002, 'C': 2003}\n",
    "train['fc_year'] = train['fc_year'].map(mapping)\n",
    "train['ef_year'] = train['ef_year'].map(mapping)\n",
    "train['stn4contest'] = train['stn4contest'].str[-2:]\n",
    "train['fc_year'] = train['fc_year'].astype(int)\n",
    "train['ef_year'] = train['ef_year'].astype(int)\n",
    "train['stn4contest'] = train['stn4contest'].astype(int)\n",
    "\n",
    "\n",
    "test['fc_year'] = 2004\n",
    "test['ef_year'] = 2004\n",
    "test['stn4contest'] = test['stn4contest'].str[-2:]\n",
    "test['fc_year'] = test['fc_year'].astype(int)\n",
    "test['ef_year'] = test['ef_year'].astype(int)\n",
    "test['stn4contest'] = test['stn4contest'].astype(int)\n",
    "\n",
    "\n",
    "# 날짜 데이터 통합하기\n",
    "\n",
    "train['fc_datetime'] = pd.to_datetime(train[['fc_year', 'fc_month', 'fc_day', 'fc_hour']].rename(columns={'fc_year': 'year', 'fc_month': 'month', 'fc_day': 'day', 'fc_hour': 'hour'}))\n",
    "train['ef_datetime'] = pd.to_datetime(train[['ef_year', 'ef_month', 'ef_day', 'ef_hour']].rename(columns={'ef_year': 'year', 'ef_month': 'month', 'ef_day': 'day', 'ef_hour': 'hour'}))\n",
    "\n",
    "test['fc_datetime'] = pd.to_datetime(test[['fc_year', 'fc_month', 'fc_day', 'fc_hour']].rename(columns={'fc_year': 'year', 'fc_month': 'month', 'fc_day': 'day', 'fc_hour': 'hour'}))\n",
    "test['ef_datetime'] = pd.to_datetime(test[['ef_year', 'ef_month', 'ef_day', 'ef_hour']].rename(columns={'ef_year': 'year', 'ef_month': 'month', 'ef_day': 'day', 'ef_hour': 'hour'}))\n",
    "\n",
    "train = train.drop(columns=['fc_year', 'fc_month', 'fc_day', 'fc_hour'])\n",
    "test = test.drop(columns=['fc_year', 'fc_month', 'fc_day', 'fc_hour'])\n",
    "\n",
    "\n",
    "# 오류값 vv = -999 제거\n",
    "\n",
    "train = train[(train['vv'] != -999)]\n",
    "# 1457252 -> 1448762 -> 1448742\n",
    "train.drop(columns=['class_interval'], inplace=True)"
   ]
  },
  {
   "cell_type": "code",
   "execution_count": 4,
   "metadata": {},
   "outputs": [],
   "source": [
    "train.to_csv('train2.csv',index=False)\n",
    "test.to_csv('test2.csv', index=False)"
   ]
  }
 ],
 "metadata": {
  "kernelspec": {
   "display_name": "flood",
   "language": "python",
   "name": "python3"
  },
  "language_info": {
   "codemirror_mode": {
    "name": "ipython",
    "version": 3
   },
   "file_extension": ".py",
   "mimetype": "text/x-python",
   "name": "python",
   "nbconvert_exporter": "python",
   "pygments_lexer": "ipython3",
   "version": "3.8.19"
  }
 },
 "nbformat": 4,
 "nbformat_minor": 2
}
